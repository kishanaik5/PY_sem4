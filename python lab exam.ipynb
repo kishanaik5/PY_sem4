{
 "cells": [
  {
   "cell_type": "markdown",
   "id": "0c923e95",
   "metadata": {},
   "source": [
    "### 1 a. Write a python program to read 2 numbers from the keyboard and perform the basic arithmetic operations based on the choice. (1-Add, 2-Subtract, 3-Multiply, 4-Divide)"
   ]
  },
  {
   "cell_type": "code",
   "execution_count": 1,
   "id": "1ae598e2",
   "metadata": {},
   "outputs": [
    {
     "name": "stdout",
     "output_type": "stream",
     "text": [
      "Enter the First number: 56\n",
      "Enter the Second number: 45\n",
      "Enter the choice to perform the operation 1 add 2 sub 3 multiply 4 Divide: 1\n",
      "101\n"
     ]
    }
   ],
   "source": [
    "x = int(input(\"Enter the First number: \"))\n",
    "y = int(input(\"Enter the Second number: \"))\n",
    "ch = int(input(\"Enter the choice to perform the operation 1 add 2 sub 3 multiply 4 Divide: \"))\n",
    "if ch == 1:\n",
    "    add = x+y\n",
    "    print(add)\n",
    "elif ch == 2:\n",
    "    sub = x-y\n",
    "    print(sub)\n",
    "elif ch == 3:\n",
    "    mul = x*y\n",
    "    print(mul)\n",
    "elif ch == 4:\n",
    "    div = float(x/y)\n",
    "    print(div)\n",
    "else : print(\"Invalid choice\")\n"
   ]
  },
  {
   "cell_type": "markdown",
   "id": "ed263475",
   "metadata": {},
   "source": [
    "### 1 b. Write a python program to create a list of tuples having first element as the strings and the second element as the length of the string. Output the list of tuples sorted based on the length of the string.\n"
   ]
  },
  {
   "cell_type": "code",
   "execution_count": 2,
   "id": "96570261",
   "metadata": {},
   "outputs": [
    {
     "name": "stdout",
     "output_type": "stream",
     "text": [
      "[('cake', 4), ('apple', 5), ('diabetes', 8)]\n"
     ]
    }
   ],
   "source": [
    "def create(strings):\n",
    "    tuple_list = []\n",
    "    for string in strings:\n",
    "        tuple = (string,len(string))\n",
    "        tuple_list.append(tuple)\n",
    "    return sorted(tuple_list,key = lambda x : x[1])\n",
    "\n",
    "strings = ['apple','cake','diabetes']\n",
    "tuples = create(strings)\n",
    "print(tuples)"
   ]
  },
  {
   "cell_type": "markdown",
   "id": "8632becb",
   "metadata": {},
   "source": [
    "### 2 a. Write a python program to display all the prime numbers in the given range.\n"
   ]
  },
  {
   "cell_type": "code",
   "execution_count": 3,
   "id": "dd99814f",
   "metadata": {},
   "outputs": [
    {
     "name": "stdout",
     "output_type": "stream",
     "text": [
      "Enter the starting number: 1\n",
      "Enter the end number: 10\n",
      "2\n",
      "3\n",
      "5\n",
      "7\n"
     ]
    }
   ],
   "source": [
    "def prime(n):\n",
    "    if n <= 1:\n",
    "        return False\n",
    "    for i in range(2,int(n**0.5)+1):\n",
    "        if n%i == 0 :\n",
    "            return False\n",
    "    return True\n",
    "            \n",
    "start = int(input(\"Enter the starting number: \"))\n",
    "end = int(input(\"Enter the end number: \"))\n",
    "primes = []\n",
    "\n",
    "for num in range(start,end+1):\n",
    "    if prime(num):\n",
    "        print(num)\n"
   ]
  },
  {
   "cell_type": "markdown",
   "id": "ae81aad1",
   "metadata": {},
   "source": [
    "### 2 b. Write a python program to create a list with all the subject names of the 4th semester and perform the following operations.\n",
    "### Display the list using for loop.\n",
    "### Display 2nd and 5th element of the list.\n",
    "### Display first 4 elements of the list using the range of indexes.\n",
    "### Display last 4 elements of the list using the range of negative indexes.\n",
    "### Display if \"Python Programming Lab\" is available in the List or not.\n",
    "### Demonstrate the working of append () and insert () function.\n",
    "### Demonstrate the working of remove() and pop() function.\n"
   ]
  },
  {
   "cell_type": "code",
   "execution_count": 4,
   "id": "dee26a22",
   "metadata": {},
   "outputs": [
    {
     "name": "stdout",
     "output_type": "stream",
     "text": [
      "Subjects in the 4th semester:\n",
      "Mathematics\n",
      "Computer Science\n",
      "Python Programming Lab\n",
      "Data Structures\n",
      "Algorithms\n",
      "\n",
      "2nd and 5th subjects:\n",
      "Computer Science\n",
      "Algorithms\n",
      "\n",
      "First 4 subjects:\n",
      "Mathematics\n",
      "Computer Science\n",
      "Python Programming Lab\n",
      "Data Structures\n",
      "\n",
      "Last 4 subjects:\n",
      "Computer Science\n",
      "Python Programming Lab\n",
      "Data Structures\n",
      "Algorithms\n",
      "\n",
      "'Python Programming Lab' is available in the list.\n",
      "\n",
      "After appending 'Operating Systems': ['Mathematics', 'Computer Science', 'Python Programming Lab', 'Data Structures', 'Algorithms', 'Operating Systems']\n",
      "\n",
      "After inserting 'Database Management Systems': ['Mathematics', 'Computer Science', 'Python Programming Lab', 'Database Management Systems', 'Data Structures', 'Algorithms', 'Operating Systems']\n",
      "\n",
      "After removing 'Algorithms': ['Mathematics', 'Computer Science', 'Python Programming Lab', 'Database Management Systems', 'Data Structures', 'Operating Systems']\n",
      "\n",
      "Popped subject: Python Programming Lab\n",
      "After popping the 2nd element: ['Mathematics', 'Computer Science', 'Database Management Systems', 'Data Structures', 'Operating Systems']\n"
     ]
    }
   ],
   "source": [
    "subjects = [ \"Mathematics\", \"Computer Science\", \"Python Programming Lab\", \"Data Structures\", \"Algorithms\"]\n",
    "\n",
    "# Display the list using a for loop\n",
    "print(\"Subjects in the 4th semester:\")\n",
    "for subject in subjects:\n",
    "    print(subject)\n",
    "\n",
    "# Display the 2nd and 5th element of the list\n",
    "print(\"\\n2nd and 5th subjects:\")\n",
    "print(subjects[1])  # 2nd element (index 1)\n",
    "print(subjects[4])  # 5th element (index 4)\n",
    "\n",
    "# Display the first 4 elements of the list using range of indexes\n",
    "print(\"\\nFirst 4 subjects:\")\n",
    "for i in range(4):\n",
    "    print(subjects[i])\n",
    "\n",
    "# Display the last 4 elements of the list using range of negative indexes\n",
    "print(\"\\nLast 4 subjects:\")\n",
    "for i in range(-4, 0):\n",
    "    print(subjects[i])\n",
    "\n",
    "# Check if \"Python Programming Lab\" is available in the list\n",
    "if \"Python Programming Lab\" in subjects:\n",
    "    print(\"\\n'Python Programming Lab' is available in the list.\")\n",
    "else:\n",
    "    print(\"\\n'Python Programming Lab' is not available in the list.\")\n",
    "\n",
    "# Demonstrate append() function\n",
    "subjects.append(\"Operating Systems\")\n",
    "print(\"\\nAfter appending 'Operating Systems':\", subjects)\n",
    "\n",
    "# Demonstrate insert() function\n",
    "subjects.insert(3, \"Database Management Systems\")\n",
    "print(\"\\nAfter inserting 'Database Management Systems':\", subjects)\n",
    "\n",
    "# Demonstrate remove() function\n",
    "subjects.remove(\"Algorithms\")\n",
    "print(\"\\nAfter removing 'Algorithms':\", subjects)\n",
    "\n",
    "# Demonstrate pop() function\n",
    "popped_subject = subjects.pop(2)\n",
    "print(\"\\nPopped subject:\", popped_subject)\n",
    "print(\"After popping the 2nd element:\", subjects)\n"
   ]
  },
  {
   "cell_type": "markdown",
   "id": "ba3e1a53",
   "metadata": {},
   "source": [
    "### 3 a. Create a dictionary of words and their meanings. Write functions to add a new entry(word: meaning), search for a particular word and retrieve meaning, given meaningfind words with same meaning, remove an entry, display all words sortedalphabetically. \n"
   ]
  },
  {
   "cell_type": "code",
   "execution_count": 5,
   "id": "dbd9e45b",
   "metadata": {},
   "outputs": [],
   "source": [
    "def createdic():\n",
    "    dic = {}\n",
    "    return dic\n",
    "\n",
    "def addentry(dic,word,meaning):\n",
    "    dic[word] = meaning\n",
    "    \n",
    "def searchword(dic,word):\n",
    "    meaning = dic.get[word]\n",
    "    if meaning is None:\n",
    "        print(\"Word doesn't exist\")\n",
    "    else:\n",
    "        print(meaning)\n",
    "        \n",
    "def find(dic,meaning):\n",
    "    words =[]\n",
    "    for word,value in dic.items():\n",
    "        if value == meaning:\n",
    "            words.append(word)\n",
    "    return words\n",
    "    \n",
    "def removeentry(dic,word):\n",
    "    del dic[word]\n",
    "\n",
    "def display(dic):\n",
    "    for word in sorted(dic.keys()):\n",
    "        print(word,dic[word])\n",
    "        "
   ]
  },
  {
   "cell_type": "code",
   "execution_count": null,
   "id": "489ccfff",
   "metadata": {},
   "outputs": [],
   "source": [
    "n = 0\n",
    "dic = createdic()\n",
    "while n != 6:\n",
    "    n = int(input(\"Enter the choice :\\n 1 add entry 2 search meaning 3 find word 4 remove entry 5 display 6 exit: \"))\n",
    "    if n == 1:\n",
    "        addentry(dic,input(\"Enter word: \"),input(\"Enter meaning: \"))\n",
    "    elif n == 2:\n",
    "        searchword(dic,input(\"Enter word: \"))\n",
    "    elif n ==3:\n",
    "        list = find(dic,input(\"Enter meaning: \"))\n",
    "        for l in list:\n",
    "            print(l)\n",
    "    elif n == 4:\n",
    "        removeentry(dic,input(\"Enter word to delete:\"))\n",
    "    elif n == 5:\n",
    "        display(dic)\n",
    "    elif n == 6:\n",
    "        exit()\n",
    "    else:\n",
    "        print(\"Invalid choice\")\n",
    "    \n",
    "        "
   ]
  },
  {
   "cell_type": "markdown",
   "id": "9a39d221",
   "metadata": {},
   "source": [
    "### 3 b.Write a python program to perform the following operations using user defined functions\n",
    "#### Display the maximum and minimum number from the array.\n",
    "#### Display the second largest number from the array without sorting\n"
   ]
  },
  {
   "cell_type": "code",
   "execution_count": 2,
   "id": "d79d4d43",
   "metadata": {},
   "outputs": [
    {
     "name": "stdout",
     "output_type": "stream",
     "text": [
      "max: 6\n",
      "min: 1\n",
      "second max: 5\n"
     ]
    }
   ],
   "source": [
    "def minmax(l):\n",
    "    print(\"max:\",max(l))\n",
    "    print(\"min:\",min(l))\n",
    "    \n",
    "def second_max(l):\n",
    "    l.remove(max(l))\n",
    "    print(\"second max:\",max(l))\n",
    "\n",
    "a =[1,2,3,4,5,6]\n",
    "minmax(a)\n",
    "second_max(a)"
   ]
  },
  {
   "cell_type": "markdown",
   "id": "e491744e",
   "metadata": {},
   "source": [
    "### 4 a. Write a python program to initialize a dictionary of usernames and passwords associated with it. passwd={‘rahul’: ‘genius’, ‘kumar’: ‘smart’, ‘ankita’: ‘intelligent’} perform the following functions:\n",
    "#### To print all the items in the dictionary.\n",
    "#### To print all the keys in the dictionary.\n",
    "#### To print all the values in the dictionary.\n",
    "#### To get the passwords of users. For example, passwd[‘rahul’]= genius\n",
    "#### Change the password of a particular user. For example, passwd[‘ankita’]=‘brilliant’\n"
   ]
  },
  {
   "cell_type": "code",
   "execution_count": 10,
   "id": "82d0cc96",
   "metadata": {},
   "outputs": [
    {
     "name": "stdout",
     "output_type": "stream",
     "text": [
      "rahul genius\n",
      "kumar smart\n",
      "ankita intelligent\n",
      "rahul\n",
      "kumar\n",
      "ankita\n",
      "genius\n",
      "smart\n",
      "intelligent\n",
      "username: rahul\n",
      "genius\n",
      "username: ankita\n",
      "new_password: brilliant\n",
      "password changed successfully\n"
     ]
    }
   ],
   "source": [
    "def printall(passwd):\n",
    "    for key,value in passwd.items():\n",
    "        print(key,value)\n",
    "\n",
    "def printallkeys(passwd):\n",
    "    for key in passwd.keys():\n",
    "        print(key)\n",
    "        \n",
    "def printallvalues(passwd):\n",
    "    for value in passwd.values():\n",
    "        print(value)\n",
    "        \n",
    "def getpass(passwd,username):\n",
    "    password = passwd.get(username)\n",
    "    if password is None:\n",
    "        print(\"Username doesn't exist\")\n",
    "    else:\n",
    "        print(password)\n",
    "        \n",
    "def changepass(passwd,username,newpassword):\n",
    "    passwd[username] = newpassword\n",
    "    print('password changed successfully')\n",
    "passwd = {\n",
    "    'rahul' : 'genius',\n",
    "    'kumar' : 'smart',\n",
    "    'ankita' : 'intelligent'\n",
    "}\n",
    "\n",
    "printall(passwd)\n",
    "printallkeys(passwd)\n",
    "printallvalues(passwd)\n",
    "getpass(passwd,input(\"username: \"))\n",
    "changepass(passwd,input('username: '),input('new_password: '))\n",
    "        "
   ]
  },
  {
   "cell_type": "markdown",
   "id": "f0dadb06",
   "metadata": {},
   "source": [
    "### 4 b. Develop a python program to count all the occurrences of vowels, consonants and digits from the given text using Regular expressions\n"
   ]
  },
  {
   "cell_type": "code",
   "execution_count": 13,
   "id": "5a7b5511",
   "metadata": {},
   "outputs": [
    {
     "name": "stdout",
     "output_type": "stream",
     "text": [
      "Enter text: india1234\n",
      "The number of vowels are : 3, consonants are : 2, and digits are : 4\n"
     ]
    }
   ],
   "source": [
    "import re\n",
    "def countocc(test):\n",
    "    vowel = re.findall(r'[aeiouAEIOU]',text)\n",
    "    consonants = re.findall(r'[bcdfghjklmnpqrstvwxyzBCDFGHJKLMNPQRSTVWXYZ]',text)\n",
    "    digits = re.findall(r'[0-9]',text)\n",
    "    \n",
    "    return len(vowel),len(consonants),len(digits)\n",
    "\n",
    "text= input(\"Enter text: \")\n",
    "v,c,d = countocc(text)\n",
    "print(f'The number of vowels are : {v}, consonants are : {c}, and digits are : {d}')"
   ]
  },
  {
   "cell_type": "markdown",
   "id": "9ff86cf2",
   "metadata": {},
   "source": [
    "### 5 a. Write a python program to create a tuple and perform the following operations\n",
    "#### Adding an item\n",
    "#### Displaying the length of the tuple\n",
    "#### Checking for an item in the tuple\n",
    "#### Accessing an item\n"
   ]
  },
  {
   "cell_type": "code",
   "execution_count": 18,
   "id": "a64c7a24",
   "metadata": {},
   "outputs": [
    {
     "name": "stdout",
     "output_type": "stream",
     "text": [
      "(10, 20, 30, 40, 50)\n",
      "(10, 20, 30, 40, 50, 60)\n",
      "Length of the tuple: 6\n",
      "30 is present in the tuple.\n",
      "Item at index 2: 30\n"
     ]
    }
   ],
   "source": [
    "my_tuple = (10, 20, 30, 40, 50)\n",
    "print(my_tuple)\n",
    "# Adding an item to the tuple\n",
    "my_tuple += (60,)\n",
    "print(my_tuple)\n",
    "\n",
    "# Displaying the length of the tuple\n",
    "print(\"Length of the tuple:\", len(my_tuple))\n",
    "\n",
    "# Checking for an item in the tuple\n",
    "item = 30\n",
    "if item in my_tuple:\n",
    "    print(f\"{item} is present in the tuple.\")\n",
    "else:\n",
    "    print(f\"{item} is not present in the tuple.\")\n",
    "\n",
    "# Accessing an item in the tuple\n",
    "index = 2\n",
    "if index < len(my_tuple):\n",
    "    value = my_tuple[index]\n",
    "    print(f\"Item at index {index}: {value}\")\n",
    "else:\n",
    "    print(f\"Index {index} is out of range.\")\n"
   ]
  },
  {
   "cell_type": "markdown",
   "id": "effda63d",
   "metadata": {},
   "source": [
    "### 5 b. Write a python program to create a text file and ask the user to enter 5-6 lines of text. Display the longest and the shortest word from the file. Display the length of these words."
   ]
  },
  {
   "cell_type": "code",
   "execution_count": 24,
   "id": "60c13a50",
   "metadata": {},
   "outputs": [
    {
     "name": "stdout",
     "output_type": "stream",
     "text": [
      "enter a sentence : kishan\n",
      "enter a sentence : asas\n",
      "enter a sentence : a\n",
      "enter a sentence : dfds\n",
      "enter a sentence : vdffr\n",
      "the maximum word length :  kishan\n",
      "the minimum word length :  a\n"
     ]
    }
   ],
   "source": [
    "path=\"untitled.txt\"\n",
    "\n",
    "lines=[]\n",
    "\n",
    "for i in range(5):\n",
    "  x=input(\"enter a sentence : \")\n",
    "  lines.append(x)\n",
    "  \n",
    "with open(path,\"w\") as file:\n",
    "  for l in lines:\n",
    "    file.write(l+ \"\\n\")\n",
    "  \n",
    "with open(path,\"r\") as file:  \n",
    "  content=file.read()\n",
    "\n",
    "words=content.split()\n",
    "\n",
    "a=max(words,key=len)\n",
    "b=min(words,key=len)\n",
    "\n",
    "print(\"the maximum word length : \",a)\n",
    "print(\"the minimum word length : \",b)"
   ]
  },
  {
   "cell_type": "markdown",
   "id": "1f4cec2d",
   "metadata": {},
   "source": [
    "### 6 a. Write a python function binarySearch() to read a sorted array and search for the keyelement. Display the appropriate messages."
   ]
  },
  {
   "cell_type": "code",
   "execution_count": 26,
   "id": "a964437b",
   "metadata": {},
   "outputs": [
    {
     "name": "stdout",
     "output_type": "stream",
     "text": [
      "enter the number of elements : 4\n",
      "12\n",
      "45\n",
      "10\n",
      "32\n",
      "[10, 12, 32, 45]\n",
      "enter the search element : 10\n",
      "the element 10 is at position 1\n"
     ]
    }
   ],
   "source": [
    "def binsearch(a,n,k):\n",
    "    s=0\n",
    "    l=n-1\n",
    "    while s<=l:\n",
    "      mid=int((s+l)/2)\n",
    "      if a[mid]==k:\n",
    "        print(f\"the element {k} is at position {mid+1}\")\n",
    "        break\n",
    "      elif a[mid]<k:\n",
    "        s=mid+1\n",
    "      else:\n",
    "        l=mid-1\n",
    "    else:\n",
    "      print('element not found !!!!')\n",
    "\n",
    "    \n",
    "a=[]\n",
    "n=int(input(\"enter the number of elements : \"))\n",
    "for i in range(n):\n",
    "  x=int(input())\n",
    "  a.append(x)\n",
    "\n",
    "a.sort()\n",
    "print(a)\n",
    "\n",
    "k=int(input(\"enter the search element : \"))\n",
    "binsearch(a,n,k)\n"
   ]
  },
  {
   "cell_type": "markdown",
   "id": "7d85fe03",
   "metadata": {},
   "source": [
    "### 6 b.Write a python program to simulate saving account processing in a bank using constructors. Create Deposit and Withdraw with other member function and Check for Validation while withdrawing the amount. Raise the appropriate exceptions when depositing and withdrawing an incorrect amount. Display appropriate messages."
   ]
  },
  {
   "cell_type": "code",
   "execution_count": 8,
   "id": "e9e7bb37",
   "metadata": {},
   "outputs": [
    {
     "name": "stdout",
     "output_type": "stream",
     "text": [
      "90\n",
      "100\n"
     ]
    }
   ],
   "source": [
    "class bankacc:\n",
    "  def __init__(self,accno,bal):\n",
    "    if bal>=0:\n",
    "      self.accno=accno\n",
    "      self.bal=bal\n",
    "    else:\n",
    "      raise ValueError(\"balanace must be null or positive \")\n",
    "  \n",
    "  def withdraw(self,amt):\n",
    "    if amt>0:\n",
    "      if self.bal>=amt:\n",
    "        self.bal-=amt\n",
    "        print(self.bal)\n",
    "      else:\n",
    "        raise ValueError(\"insufficient funds!!!\")\n",
    "    else:\n",
    "      raise ValueError(\"negative amount can't be withdrawn!!!\")\n",
    "\n",
    "  def deposit(self,amt):\n",
    "    if amt>0:\n",
    "      self.bal+=amt\n",
    "      print(self.bal)\n",
    "    else:\n",
    "      raise ValueError(\"amount to be deposited must be positive !!!!\")\n",
    "\n",
    "try:\n",
    "  a=bankacc(123,100)\n",
    "  a.withdraw(10)\n",
    "  a.deposit(10)\n",
    "\n",
    "except ValueError as ve:\n",
    "    print(ve)"
   ]
  },
  {
   "cell_type": "markdown",
   "id": "8c52302c",
   "metadata": {},
   "source": [
    "### 7 a.Develop a python program to create two classes called as Stack and Queue. Providethe necessary data members and methods to display the operations that can beperformed on stacks and queues. Test for all type of conditions."
   ]
  },
  {
   "cell_type": "code",
   "execution_count": 9,
   "id": "2bab8f86",
   "metadata": {},
   "outputs": [
    {
     "name": "stdout",
     "output_type": "stream",
     "text": [
      "enter the element to be added: 45\n",
      "[45]\n",
      "enter the element to be added: 12\n",
      "[45, 12]\n",
      "enter the element to be added: 45\n",
      "[45, 12, 45]\n",
      "enter the element to be added: 45\n",
      "[45, 12, 45, 45]\n",
      "enter the element to be added: 96\n",
      "[45, 12, 45, 45, 96]\n",
      "[45, 12, 45, 45]\n",
      "enter the element to be added: 45\n",
      "[45]\n",
      "enter the element to be added: 12\n",
      "[45, 12]\n",
      "enter the element to be added: 45\n",
      "[45, 12, 45]\n",
      "enter the element to be added: 66\n",
      "[45, 12, 45, 66]\n",
      "enter the element to be added: 46\n",
      "[45, 12, 45, 66, 46]\n",
      "[12, 45, 66, 46]\n"
     ]
    }
   ],
   "source": [
    "class Stack:\n",
    "    def __init__(self):\n",
    "        self.a = []\n",
    "\n",
    "    def add(self):\n",
    "        n = int(input(\"enter the element to be added: \"))\n",
    "        self.a.append(n)\n",
    "        print(self.a)\n",
    "\n",
    "    def remove(self):\n",
    "        self.a.pop()\n",
    "        print(self.a)\n",
    "\n",
    "\n",
    "class Queue:\n",
    "    def __init__(self):\n",
    "        self.b = []\n",
    "\n",
    "    def add(self):\n",
    "        n = int(input(\"enter the element to be added: \"))\n",
    "        self.b.append(n)\n",
    "        print(self.b)\n",
    "\n",
    "    def remove(self):\n",
    "        self.b.pop(0)\n",
    "        print(self.b)\n",
    "\n",
    "c = Stack()\n",
    "c.add()\n",
    "c.add()\n",
    "c.add()\n",
    "c.add()\n",
    "c.add()\n",
    "c.remove()\n",
    "\n",
    "d = Queue()\n",
    "d.add()\n",
    "d.add()\n",
    "d.add()\n",
    "d.add()\n",
    "d.add()\n",
    "d.remove()\n"
   ]
  },
  {
   "cell_type": "markdown",
   "id": "60ece1ee",
   "metadata": {},
   "source": [
    "### 8 a. Develop a python program to read 20 random numbers. Display all the odd numbersfrom this list which are of length 2 and 4."
   ]
  },
  {
   "cell_type": "code",
   "execution_count": null,
   "id": "bfca14f3",
   "metadata": {},
   "outputs": [],
   "source": [
    "import random\n",
    "a=[]\n",
    "l=[2,4]\n",
    "for i in range(20):\n",
    "  x=random.randrange(99,10000)\n",
    "  a.append(x)\n",
    "\n",
    "print(a)\n",
    "\n",
    "for i in a:\n",
    "  if len(str(i)) in l:\n",
    "    if i%2!=0:\n",
    "      print(i)"
   ]
  },
  {
   "cell_type": "markdown",
   "id": "bdd504f2",
   "metadata": {},
   "source": [
    "### 8 b.Develop a python program to create a text file and ask the user to enter 5-6 lines of text. Count the number of upper case, lower case and digits in the file. Display the details of the file."
   ]
  },
  {
   "cell_type": "code",
   "execution_count": 11,
   "id": "a803a4f7",
   "metadata": {},
   "outputs": [
    {
     "name": "stdout",
     "output_type": "stream",
     "text": [
      "enter 5 to 6 lines : \n",
      "KISHAN\n",
      "naiki\n",
      "rathOd\n",
      "123456\n",
      "1234\n",
      "the number of upper case words are : 7\n",
      "the number of lower case words are : 10\n",
      "the number of digits are : 10\n"
     ]
    }
   ],
   "source": [
    "path=\"untitled.txt\"\n",
    "l=[]\n",
    "u=0\n",
    "c=0\n",
    "d=0\n",
    "print(\"enter 5 to 6 lines : \")\n",
    "for i in range(5):\n",
    "  x=input()\n",
    "  l.append(x)\n",
    "\n",
    "with open(path,\"w\") as file:\n",
    "  for line in l:\n",
    "    file.write( line + \"\\n\")\n",
    "\n",
    "with open(path,\"r\") as file:\n",
    "  content=file.read()\n",
    "\n",
    "for i in content:\n",
    "  if i.isupper():\n",
    "    u+=1\n",
    "  if i.islower():\n",
    "    c+=1\n",
    "  if i.isdigit():\n",
    "    d+=1\n",
    "\n",
    "print(f\"the number of upper case words are : {u}\")\n",
    "print(f\"the number of lower case words are : {c}\")\n",
    "print(f\"the number of digits are : {d}\")"
   ]
  },
  {
   "cell_type": "markdown",
   "id": "00dc30b6",
   "metadata": {},
   "source": [
    "### 9 b. Develop a python program to demonstrate handling multiple exceptions using try,except, else and finally block statements.."
   ]
  },
  {
   "cell_type": "code",
   "execution_count": 13,
   "id": "730e6916",
   "metadata": {},
   "outputs": [
    {
     "name": "stdout",
     "output_type": "stream",
     "text": [
      "1\n",
      "2\n",
      "no error found :)\n",
      "code executed \n"
     ]
    }
   ],
   "source": [
    "x=1\n",
    "d=[1,2,3]\n",
    "try:\n",
    "  print(x)\n",
    "  #print(3/0)\n",
    "  print(d[1])\n",
    "except ValueError as v:\n",
    "  print(v)\n",
    "except ZeroDivisionError as z:\n",
    "  print(z)\n",
    "except IndexError as i:\n",
    "  print(i)\n",
    "\n",
    "else:\n",
    "  print(\"no error found :)\")\n",
    "finally:\n",
    "  print(\"code executed \")"
   ]
  },
  {
   "cell_type": "markdown",
   "id": "4e9e32c5",
   "metadata": {},
   "source": [
    "### 10 a. Write a python program to demonstrate handling of the following exceptions using try and except.\n",
    "#### NameError\n",
    "#### IndexError\n",
    "#### KeyError\n",
    "#### ZeroDivisionError"
   ]
  },
  {
   "cell_type": "code",
   "execution_count": 14,
   "id": "4ab41d79",
   "metadata": {},
   "outputs": [
    {
     "name": "stdout",
     "output_type": "stream",
     "text": [
      "division by zero\n"
     ]
    }
   ],
   "source": [
    "abc=[1,2]\n",
    "d={1:2}\n",
    "try:\n",
    "  #print(xyzc)\n",
    "  #print(abc[4])\n",
    "  #print(d[\"ab\"])\n",
    "  print(5/0)\n",
    "except NameError as v:\n",
    "  print(v)\n",
    "except IndexError as i:\n",
    "  print(i)\n",
    "except KeyError as k:\n",
    "  print(k)\n",
    "except ZeroDivisionError as z:\n",
    "  print(z)"
   ]
  },
  {
   "cell_type": "markdown",
   "id": "31738cef",
   "metadata": {},
   "source": [
    "## 10 b. Write a python to read the Iris Dataset and perform the following operations using pandas\n",
    "### First 5 rows\n",
    "### Last 5 rows\n",
    "### Information of dataset\n",
    "### Overview of the values in each column\n",
    "### Visualize the dataset using plot()"
   ]
  },
  {
   "cell_type": "code",
   "execution_count": null,
   "id": "f829ef82",
   "metadata": {},
   "outputs": [],
   "source": [
    "import pandas as pd\n",
    "import matplotlib.pyplot as plt\n",
    "\n",
    "# Load the Iris dataset\n",
    "iris_data = pd.read_csv(\"\")\n",
    "\n",
    "# Display the first 5 rows\n",
    "print(\"First 5 rows:\")\n",
    "print(iris_data.head())\n",
    "\n",
    "# Display the last 5 rows\n",
    "print(\"\\nLast 5 rows:\")\n",
    "print(iris_data.tail())\n",
    "\n",
    "# Information of dataset\n",
    "print(\"\\nInformation of dataset:\")\n",
    "print(iris_data.info())\n",
    "\n",
    "# Overview of the values in each column\n",
    "print(\"\\nOverview of the values in each column:\")\n",
    "print(iris_data.describe())\n",
    "\n",
    "# Visualize the dataset using plot()\n",
    "iris_data.plot()\n",
    "plt.show()\n",
    "\n"
   ]
  },
  {
   "cell_type": "code",
   "execution_count": null,
   "id": "c70b0804",
   "metadata": {},
   "outputs": [],
   "source": []
  },
  {
   "cell_type": "code",
   "execution_count": null,
   "id": "91147bca",
   "metadata": {},
   "outputs": [],
   "source": []
  },
  {
   "cell_type": "code",
   "execution_count": null,
   "id": "15f47ae4",
   "metadata": {},
   "outputs": [],
   "source": []
  },
  {
   "cell_type": "code",
   "execution_count": null,
   "id": "19a01855",
   "metadata": {},
   "outputs": [],
   "source": []
  },
  {
   "cell_type": "code",
   "execution_count": null,
   "id": "bc3035ce",
   "metadata": {},
   "outputs": [],
   "source": []
  },
  {
   "cell_type": "code",
   "execution_count": null,
   "id": "a72aacc8",
   "metadata": {},
   "outputs": [],
   "source": []
  },
  {
   "cell_type": "code",
   "execution_count": null,
   "id": "b5b56a3f",
   "metadata": {},
   "outputs": [],
   "source": []
  },
  {
   "cell_type": "code",
   "execution_count": null,
   "id": "847d5a92",
   "metadata": {},
   "outputs": [],
   "source": []
  },
  {
   "cell_type": "code",
   "execution_count": null,
   "id": "4bec1f77",
   "metadata": {},
   "outputs": [],
   "source": []
  }
 ],
 "metadata": {
  "kernelspec": {
   "display_name": "Python 3 (ipykernel)",
   "language": "python",
   "name": "python3"
  },
  "language_info": {
   "codemirror_mode": {
    "name": "ipython",
    "version": 3
   },
   "file_extension": ".py",
   "mimetype": "text/x-python",
   "name": "python",
   "nbconvert_exporter": "python",
   "pygments_lexer": "ipython3",
   "version": "3.10.9"
  }
 },
 "nbformat": 4,
 "nbformat_minor": 5
}
